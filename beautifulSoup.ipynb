{
 "cells": [
  {
   "cell_type": "code",
   "execution_count": null,
   "metadata": {},
   "outputs": [],
   "source": []
  },
  {
   "cell_type": "markdown",
   "metadata": {},
   "source": [
    "# Extracción de información HTML"
   ]
  },
  {
   "cell_type": "code",
   "execution_count": 1,
   "metadata": {},
   "outputs": [],
   "source": [
    "import requests\n",
    "import bs4"
   ]
  },
  {
   "cell_type": "code",
   "execution_count": 2,
   "metadata": {},
   "outputs": [],
   "source": [
    "headers = {'User-Agent': 'Mozilla/5.0 (X11; Linux x86_64) AppleWebKit/537.36 (KHTML, like Gecko) Chrome/51.0.2704.103 Safari/537.36'}"
   ]
  },
  {
   "cell_type": "code",
   "execution_count": 3,
   "metadata": {},
   "outputs": [
    {
     "data": {
      "text/plain": [
       "<Response [200]>"
      ]
     },
     "execution_count": 3,
     "metadata": {},
     "output_type": "execute_result"
    }
   ],
   "source": [
    "response = requests.get('https://www.eluniversal.com.mx/espectaculos/musica/santa-fe-klan-y-maya-nazor-seran-padres-sus-20',headers= headers )\n",
    "response"
   ]
  },
  {
   "cell_type": "code",
   "execution_count": 6,
   "metadata": {},
   "outputs": [
    {
     "data": {
      "text/plain": [
       "'Santa Fe Klan y Maya Nazor serán padres a sus 20'"
      ]
     },
     "execution_count": 6,
     "metadata": {},
     "output_type": "execute_result"
    }
   ],
   "source": [
    "soup = bs4.BeautifulSoup(response.text,'html.parser')\n",
    "links_list = soup.select('.Encabezado-Articulo h1')\n",
    "# links_list = soup.select('.bsg-Macrogaleria_Titulo a')\n",
    "links_list[0].text"
   ]
  },
  {
   "cell_type": "code",
   "execution_count": 11,
   "metadata": {},
   "outputs": [
    {
     "data": {
      "text/plain": [
       "'\\nSanta Fe Klan y su novia Maya Nazor, de 22 años ambos, dieron a conocer que están a la espera de su primer hijo.\\xa0 \"Bienvenido al MUNDO mi niño aquí te espero hijo pa’ cuidarte por siempre a ti y a tu mamá”, escribió el cantante en Instagram, publicación que acompañó con una fotografía en la que ambos están abrazados en medio de regalos y globos azules, en uno de los cuales se lee el nombre de Luka. Maya también escribió un mensaje respondiendo a su novio. Lee también:\\xa0Eugenio Derbez le responde a Omar Chaparro: \"No voy a ver su película\" “Jamás había sido tan feliz en mi vida. Gracias universo por darme el regalo más grande del Mundo, a mi bebé que esperamos con tanto amor… te amo mi amor”. Santa Fe Klan se llama Ángel Quezada y es originario de un barrio de Guanajuato. Desde muy jovencito comenzó a vender copias de sus discos. Entre sus piezas se encuentran “Así soy” y “Debo entender”, y tiene colaboraciones con artistas como Lupillo Rivera y Snoop Dogg, con piezas como “Grandes ligas”, así como con Gera MX con el tema “Último adiós”. Lee también:\\xa0Así sorprendió Coldplay al Foro Sol al recordar a Juan Gabriel En la pasada edición \\xa0del Vive Latino fue uno de los artistas que encabezó la cartelera. Además de su trabajo como cantante, \\xa0Santa Fe tiene una tienda en la que vende playeras, gorras y demás productos.\\xa0 De hecho, en Tiktok se viralizó un video en el que se ve a Maya usando una sudadera holgada y notablemente embarazada, por lo que comenzaron a correr los rumores antes de que ambos lo confirmaran. Este lunes Santa Fe no solo ha dado a conocer esta gran noticia para su vida, también lanzó “Mar y tierra”, canción en la que aparece Maya.  La pareja ya se conocía por redes sociales, pero el año pasado iniciaron una relación que Santa Fe hizo pública en sus cuentas oficiales, justo cuando le pidió que fuera su novia. Lee también:\\xa0¿Por qué Olivia Rodrigo rompió uno de sus Grammys? mafa \\xa0\\n'"
      ]
     },
     "execution_count": 11,
     "metadata": {},
     "output_type": "execute_result"
    }
   ],
   "source": [
    "result = soup.select('.field-name-body')\n",
    "result[0].text"
   ]
  }
 ],
 "metadata": {
  "interpreter": {
   "hash": "ec52c3bf2bacfa67a7d704677bd7d4c32d1b832029bfa8f066657686284ceb72"
  },
  "kernelspec": {
   "display_name": "Python 3.9.7 ('base')",
   "language": "python",
   "name": "python3"
  },
  "language_info": {
   "codemirror_mode": {
    "name": "ipython",
    "version": 3
   },
   "file_extension": ".py",
   "mimetype": "text/x-python",
   "name": "python",
   "nbconvert_exporter": "python",
   "pygments_lexer": "ipython3",
   "version": "3.9.11"
  },
  "orig_nbformat": 4
 },
 "nbformat": 4,
 "nbformat_minor": 2
}
