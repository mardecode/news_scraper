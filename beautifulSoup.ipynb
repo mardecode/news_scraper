{
 "cells": [
  {
   "cell_type": "code",
   "execution_count": null,
   "metadata": {},
   "outputs": [],
   "source": []
  },
  {
   "cell_type": "markdown",
   "metadata": {},
   "source": [
    "# Extracción de información HTML"
   ]
  },
  {
   "cell_type": "code",
   "execution_count": 2,
   "metadata": {},
   "outputs": [],
   "source": [
    "import requests\n",
    "import bs4"
   ]
  },
  {
   "cell_type": "code",
   "execution_count": 9,
   "metadata": {},
   "outputs": [],
   "source": [
    "headers = {'User-Agent': 'Mozilla/5.0 (X11; Linux x86_64) AppleWebKit/537.36 (KHTML, like Gecko) Chrome/51.0.2704.103 Safari/537.36'}"
   ]
  },
  {
   "cell_type": "code",
   "execution_count": 83,
   "metadata": {},
   "outputs": [
    {
     "data": {
      "text/plain": [
       "<Response [200]>"
      ]
     },
     "execution_count": 83,
     "metadata": {},
     "output_type": "execute_result"
    }
   ],
   "source": [
    "response = requests.get('https://elpais.com/america/',headers= headers )\n",
    "response"
   ]
  },
  {
   "cell_type": "code",
   "execution_count": 91,
   "metadata": {},
   "outputs": [
    {
     "data": {
      "text/plain": [
       "{' https://elpais.com/juegos/#?int=juegos_bloqueHome',\n",
       " '/america/economia/termometro-social-de-america/2022-03-19/la-gran-deuda-de-latinoamerica-con-las-trabajadoras.html',\n",
       " '/america/sociedad/nuevo-aire/2022-04-04/como-sentirse-en-casa-desde-las-alturas.html',\n",
       " '/babelia/2022-04-02/siri-hustvedt-es-interesante-hacer-saltar-por-los-aires-categorias-como-lo-masculino-y-lo-femenino.html',\n",
       " '/babelia/2022-04-04/cuentos-reunidos-de-amparo-davila.html',\n",
       " '/ciencia/2022-03-30/los-embriones-con-mezcla-de-mono-y-humano-me-perturban-pero-quiza-porque-no-se-lo-suficiente.html',\n",
       " '/ciencia/2022-04-03/el-enigma-de-las-enfermedades-mentales-por-que-es-tan-dificil-tratarlas.html',\n",
       " '/ciencia/2022-04-04/el-olor-de-la-vainilla-es-el-favorito-en-10-culturas-distintas.html',\n",
       " '/ciencia/2022-04-04/estudiar-el-pasado-del-volcan-popocatepetl-para-conocer-el-futuro-la-pregunta-no-es-si-entrara-en-erupcion-sino-cuando.html',\n",
       " '/clima-y-medio-ambiente/2022-03-31/las-cercetas-desaparecen-de-los-humedales-y-las-aves-esteparias-de-los-campos.html',\n",
       " '/clima-y-medio-ambiente/2022-04-01/17-expertos-internacionales-para-combatir-el-greenwashing-climatico-de-las-empresas.html',\n",
       " '/clima-y-medio-ambiente/2022-04-03/la-guerra-en-ucrania-amenaza-la-lucha-global-contra-el-cambio-climatico.html',\n",
       " '/clima-y-medio-ambiente/2022-04-04/ultimatum-cientifico-las-emisiones-deben-tocar-techo-antes-de-2025-y-luego-caer-drasticamente-para-evitar-la-catastrofe-climatica.html',\n",
       " '/cultura/2022-03-30/bruce-willis-la-retirada-del-canallita-que-triunfo-en-hollywood.html',\n",
       " '/cultura/2022-03-31/chris-rock-el-comico-sin-pelos-en-la-lengua.html',\n",
       " '/cultura/2022-04-01/maluma-exhibe-poderio-en-barcelona-ante-18000-espectadores.html',\n",
       " '/cultura/2022-04-03/cuenta-atras-nueva-entrega-de-las-cronicas-de-emmanuel-carrere-desde-el-juicio-por-los-atentados-de-paris.html',\n",
       " '/cultura/2022-04-03/diomedes-diaz-el-espejo-de-una-colombia-que-no-ha-cambiado-del-todo.html',\n",
       " '/cultura/2022-04-03/todos-los-ganadores-de-los-premios-grammy-2022.html',\n",
       " '/cultura/2022-04-03/ultimas-noticias-de-sergio-chejfec.html',\n",
       " '/cultura/2022-04-04/jon-batiste-y-olivia-rodrigo-triunfan-en-unos-premios-grammy-solidarios-con-ucrania.html',\n",
       " '/cultura/2022-04-04/sid-meier-tres-decadas-dominando-el-reino-de-los-videojuegos.html',\n",
       " '/deportes/2022-04-03/alcaraz-tumba-a-ruud-y-conquista-miami.html',\n",
       " '/deportes/2022-04-03/capitana-y-lider.html',\n",
       " '/deportes/2022-04-03/ivan-rakitic-en-la-madurez-he-vuelto-a-mis-origenes.html',\n",
       " '/deportes/2022-04-03/louis-van-gaal-anuncia-que-sufre-cancer-de-prostata.html',\n",
       " '/deportes/2022-04-03/premio-a-la-constancia-para-aleix-espargaro-que-logra-en-el-gp-de-argentina-la-primera-victoria-de-su-vida.html',\n",
       " '/deportes/2022-04-03/un-asombroso-pedri-rescata-al-fc-barcelona.html',\n",
       " '/deportes/2022-04-04/futbol-paradiso-un-mundo-perdido-en-el-tejado-de-una-iglesia-italiana.html',\n",
       " '/economia/2022-03-22/con-saciar-la-sed-no-alcanza-en-argentina.html',\n",
       " '/economia/2022-04-01/banco-santander-mantiene-sus-objetivos-de-2022-a-pesar-de-la-guerra-de-ucrania.html',\n",
       " '/economia/2022-04-01/bruselas-reformara-la-gestion-de-las-aduanas-para-cortar-una-multimillonaria-perdida-de-aranceles.html',\n",
       " '/economia/2022-04-04/elon-musk-se-hace-con-el-92-de-twitter.html',\n",
       " '/economia/negocios/2022-03-26/marta-ortega-coge-el-testigo-en-inditex-en-plena-tormenta.html',\n",
       " '/economia/negocios/2022-04-02/por-que-la-grasa-de-los-torreznos-nos-vuelve-locos.html',\n",
       " '/economia/negocios/2022-04-03/la-preocupante-brecha-de-inflacion-con-europa.html',\n",
       " '/elpais/2022/04/04/album/1649040993_917777.html',\n",
       " '/eps/2022-04-02/elsa-peretti-la-mujer-que-hizo-de-un-hueso-la-pulsera-mas-famosa-del-mundo.html',\n",
       " '/eps/2022-04-03/si-a-la-vidorra.html',\n",
       " '/espana/2022-04-04/la-policia-alerta-de-una-estafa-por-whatsapp-en-la-que-se-pide-dinero-a-mujeres-haciendose-pasar-por-sus-hijos.html',\n",
       " '/espana/2022-04-04/nadie-delata-a-la-reina-de-la-coca.html',\n",
       " '/espana/2022-04-04/podemos-pide-lealtad-al-psoe-frente-a-futuros-pactos-de-estado-con-feijoo.html',\n",
       " '/gente/2022-03-29/la-reina-isabel-ii-se-deja-ver-en-publico-cinco-meses-despues-para-la-despedida-del-duque-de-edimburgo.html',\n",
       " '/gente/2022-03-29/miley-cyrus-se-sincera-sobre-su-matrimonio-con-liam-hemsworth-y-dice-que-fue-un-autentico-desastre.html',\n",
       " '/gente/2022-03-30/lady-gaga-y-el-respeto-a-las-leyendas-todos-sus-inesperados-gestos-de-liza-minnelli-a-tony-bennett.html',\n",
       " '/gente/2022-04-03/el-principe-andres-desesperado-por-salir-del-ostracismo-hasta-donde-llegara-la-proteccion-maternal-de-isabel-ii.html',\n",
       " '/icon/2022-04-02/mads-mikkelsen-al-rescate-de-harry-potter-tome-el-relevo-de-johnny-depp-porque-era-una-emergencia-pero-dude.html',\n",
       " '/icon/cultura/2022-03-30/sexo-drogas-y-cuadros-arrojados-al-rio-vida-salvaje-de-johnny-hallyday-la-primera-estrella-de-rock.html',\n",
       " '/ideas/2022-03-23/por-que-vox-no-es-un-partido-democratico.html',\n",
       " '/ideas/2022-04-02/estamos-aturdidos-por-el-mareante-frenesi-informativo.html',\n",
       " '/internacional/2022-04-01/el-mckinsey-gate-la-inoportuna-polemica-para-macron-en-la-recta-final-de-la-campana.html',\n",
       " '/internacional/2022-04-01/la-guerra-se-recrudece-en-mali-ante-el-repliegue-frances.html',\n",
       " '/internacional/2022-04-02/petro-te-corta-el-pelo.html',\n",
       " '/internacional/2022-04-03/bukele-lanza-una-cruzada-totalitaria-contra-las-pandillas.html',\n",
       " '/internacional/2022-04-03/esta-putin-perdiendo-la-guerra-balance-de-la-primera-fase-del-conflicto-en-ucrania.html',\n",
       " '/internacional/2022-04-03/francia-vota-en-tiempos-de-excepcion.html',\n",
       " '/internacional/2022-04-03/la-quinta-victoria-de-orban-consolida-su-regimen-iliberal-en-hungria.html',\n",
       " '/internacional/2022-04-03/las-vamos-a-violar-las-denuncias-de-acoso-en-colegios-de-chile-plantan-un-reto-para-el-gobierno-feminista-de-boric.html',\n",
       " '/internacional/2022-04-03/varios-muertos-por-un-tiroteo-en-sacramento-california.html',\n",
       " '/internacional/2022-04-04/caracas-la-vida-entre-revolveres.html',\n",
       " '/internacional/2022-04-04/el-economista-rodrigo-chaves-el-nuevo-experimento-del-populismo-en-costa-rica.html',\n",
       " '/internacional/2022-04-04/extremistas-alemanes-migran-a-paraguay-en-busca-de-su-paraiso-ideal-sin-impuestos-sin-vacunas-y-sin-musulmanes.html',\n",
       " '/internacional/2022-04-04/guerra-rusia-ucrania-ultima-hora-de-hoy-en-directo.html',\n",
       " '/internacional/2022-04-04/la-energia-coloca-a-biden-entre-la-espada-y-la-pared.html',\n",
       " '/internacional/2022-04-04/la-matanza-de-bucha-muestra-al-mundo-el-horror-de-la-guerra-de-putin.html',\n",
       " '/internacional/2022-04-04/la-ue-prepara-con-urgencia-mas-sanciones-por-las-atrocidades-rusas-en-bucha.html',\n",
       " '/internacional/2022-04-04/las-primeras-elecciones-en-plena-guerra-en-europa-consolidan-a-los-lideres-aliados-de-putin.html',\n",
       " '/internacional/2022-04-04/un-taxista-conduce-por-bogota-en-busca-de-los-asesinos-de-su-hijo.html',\n",
       " '/mexico/2022-04-01/detenido-otro-presunto-colaborador-en-la-red-de-trata-sexual-del-exlider-priista-cuauhtemoc-gutierrez.html',\n",
       " '/mexico/2022-04-02/espias-entre-nosotros-el-fantasma-del-espionaje-internacional-regresa-a-mexico.html',\n",
       " '/mexico/2022-04-03/la-ley-ingrid-amenaza-la-libertad-de-los-medios-para-contar-la-violencia-machista-en-mexico.html',\n",
       " '/mexico/2022-04-03/la-mexicana-acusada-de-adulterio-en-qatar-se-libra-de-la-prision-y-los-100-latigazos.html',\n",
       " '/mexico/2022-04-03/los-papeles-de-hernan-cortes-ya-estan-en-mexico.html',\n",
       " '/opinion/2022-04-04/chile-in-the-making.html',\n",
       " '/opinion/2022-04-04/nazis-y-peronistas-organizan-una-cita-a-ciegas.html',\n",
       " '/opinion/2022-04-04/putin-se-repliega.html',\n",
       " '/planeta-futuro/que-mueve-a/2022-04-03/perseguir-por-africa-entera-el-sueno-de-estudiar.html',\n",
       " '/planeta-futuro/red-de-expertos/2022-04-04/erradicar-la-pobreza-con-el-poder-y-el-capital-del-sector-privado.html',\n",
       " '/podcasts/hoy-en-el-pais/2022-04-04/la-francia-que-puede-decidir-al-proximo-presidente-baila-country.html',\n",
       " '/sociedad/2022-03-31/costa-rica-condena-a-20-anos-de-carcel-a-mauricio-viquez-un-sacerdote-que-violo-a-un-nino.html',\n",
       " '/sociedad/2022-03-31/jorge-molina-la-quimica-del-exito-en-los-negocios.html',\n",
       " '/sociedad/2022-04-01/vivir-con-afasia-cada-palabra-es-una-montana.html',\n",
       " '/sociedad/2022-04-04/jean-charles-bouchoux-en-nuestra-imperfeccion-esta-nuestra-propia-felicidad.html',\n",
       " '/tecnologia/2022-04-01/la-actividad-privada-de-un-usuario-en-la-red-contamina-al-ano-tanto-como-un-viaje-en-coche-de-mas-de-1000-kilometros.html',\n",
       " '/tecnologia/2022-04-04/por-que-se-circuncidan-las-chicas-el-problema-de-google-en-arabe-con-la-mutilacion-genital-femenina.html',\n",
       " '/tecnologia/tu-tecnologia/2022-04-03/por-que-es-tan-dificil-volver-a-encontrar-ese-video-divertido-con-el-que-te-topaste-hace-tres-horas.html',\n",
       " '/television/2022-04-03/la-banda-de-la-ruleta-de-la-suerte-tenemos-el-trabajo-con-el-que-suena-cualquier-musico.html',\n",
       " '/television/2022-04-03/no-te-lo-perdonare-jamas-will-smith-jamas.html',\n",
       " '/television/2022-04-04/retrato-del-gran-retratista-del-mal-en-su-80-cumpleanos.html',\n",
       " '/videos/2022-04-01/videoanalisis-cual-sera-el-proximo-paso-de-rusia-en-la-guerra-de-ucrania.html',\n",
       " '/videos/2022-04-04/video-la-intervencion-de-zelenski-en-los-grammy-nuestros-musicos-llevan-chalecos-antibalas-en-lugar-de-esmoquines.html',\n",
       " 'https://as.com/tenis/2022/04/03/videos/1649009614_232112.html?omnil=crossepportsup',\n",
       " 'https://cadenaser.com/2022/04/04/es-un-error-basico-el-fallo-mas-habitual-a-la-hora-de-hacer-la-declaracion-de-la-renta-con-el-que-podrias-perder-dinero/?afl=elpais',\n",
       " 'https://cincodias.elpais.com/cincodias/2022/04/01/companias/1648839610_614680.html',\n",
       " 'https://elpais.com/elcomidista/2022/03/16/receta/1647429098_874612.html',\n",
       " 'https://elpais.com/elcomidista/2022/03/21/articulo/1647851724_773720.html',\n",
       " 'https://elpais.com/elpais/2022/04/01/gastronotas_de_capel/1648839763_322215.html',\n",
       " 'https://elviajero.elpais.com/elviajero/2022/03/31/actualidad/1648730002_807226.html',\n",
       " 'https://english.elpais.com/culture/2022-04-01/thirteen-of-historys-most-famous-speeches-from-jesus-and-mandela-to-hitler-putin-and-zelenskiy.html',\n",
       " 'https://english.elpais.com/culture/2022-04-03/artificial-orgasms-pleasure-in-the-age-of-porn-the-satisfyer-and-turbo-charged-desire.html',\n",
       " 'https://english.elpais.com/international/2022-03-30/the-ukraine-war-in-maps-russia-has-not-given-up-its-attacks-on-kyiv.html',\n",
       " 'https://english.elpais.com/international/2022-03-31/italian-bank-employee-confesses-to-killing-a-porn-actress-after-recording-a-sex-video-with-her.html',\n",
       " 'https://english.elpais.com/international/2022-04-02/pope-francis-considering-visit-to-ukraine-it-is-on-the-table.html',\n",
       " 'https://english.elpais.com/international/2022-04-03/retreat-of-russian-forces-uncovers-evidence-of-possible-war-crimes.html',\n",
       " 'https://english.elpais.com/science-tech/2022-04-01/joe-grand-hacked-a-2-million-crypto-wallet-now-hes-turned-it-into-a-job.html',\n",
       " 'https://english.elpais.com/science-tech/2022-04-03/birds-are-laying-their-eggs-earlier-and-climate-change-is-to-blame-according-to-study.html',\n",
       " 'https://english.elpais.com/science-tech/2022-04-03/knot-theory-how-many-times-is-it-possible-to-twist-a-rope-on-itself.html',\n",
       " 'https://escuela.elpais.com/inscripcion-al-master-de-periodismo-2022-2024/',\n",
       " 'https://plus.elpais.com/newsletters/lnp/1/331/#?prm=elpais_mkt_ep_boletinmateria_bloqueeph',\n",
       " 'https://plus.elpais.com/newsletters/lnp/1/391/#?prm=elpais_mkt_ep_boletinclimaymed_bloqueeph',\n",
       " 'https://plus.elpais.com/newsletters/lnp/1/398#?prm=elpais_mkt_ep_boletinideas_bloqueeph',\n",
       " 'https://plus.elpais.com/newsletters/lnp/1/407',\n",
       " 'https://retinatendencias.com/vida-digital/un-robot-putin-y-la-ninfa-eco/',\n",
       " 'https://smoda.elpais.com/moda/de-and-just-like-that-a-euphoria-el-culto-al-vintage-arrasa-en-la-pequena-pantalla/',\n",
       " 'https://smoda.elpais.com/moda/mujer-tenias-que-ser-o-las-verdaderas-motomamis-asi-han-cambiado-las-espanolas-al-volante-y-en-los-concesionarios/',\n",
       " 'https://smoda.elpais.com/placeres/alexandra-masangkay-actriz-espanola-entrevista/',\n",
       " 'https://www.huffingtonpost.es/entry/a-javier-aroca-no-le-caben-mas-me-gusta-en-twitter-tras-responder-asi-a-una-frase-de-aznar_es_624afcb6e4b068157f7a563c',\n",
       " 'https://www.wradio.com.co/2022/02/01/si-o-no-a-la-clausula-petro-posiciones-divididas-entre-lideres-gremiales/'}"
      ]
     },
     "execution_count": 91,
     "metadata": {},
     "output_type": "execute_result"
    }
   ],
   "source": [
    "soup = bs4.BeautifulSoup(response.text,'html.parser')\n",
    "links_list = soup.select('.c_t a')\n",
    "# links_list = soup.select('.bsg-Macrogaleria_Titulo a')\n",
    "links_list2 =[]\n",
    "for link in links_list:\n",
    "  if link and link.has_attr('href') and 'www' in link['href']:\n",
    "    links_list2.append(link['href'])\n",
    "links_non_rep  = set(links_list2)\n",
    "# len(links_non_rep)\n",
    "links_non_rep"
   ]
  },
  {
   "cell_type": "code",
   "execution_count": 24,
   "metadata": {},
   "outputs": [
    {
     "data": {
      "text/plain": [
       "<Response [403]>"
      ]
     },
     "execution_count": 24,
     "metadata": {},
     "output_type": "execute_result"
    }
   ],
   "source": [
    "response = requests.get('https://platzi.com/nocode/')\n",
    "response"
   ]
  }
 ],
 "metadata": {
  "interpreter": {
   "hash": "ec52c3bf2bacfa67a7d704677bd7d4c32d1b832029bfa8f066657686284ceb72"
  },
  "kernelspec": {
   "display_name": "Python 3.9.7 ('base')",
   "language": "python",
   "name": "python3"
  },
  "language_info": {
   "codemirror_mode": {
    "name": "ipython",
    "version": 3
   },
   "file_extension": ".py",
   "mimetype": "text/x-python",
   "name": "python",
   "nbconvert_exporter": "python",
   "pygments_lexer": "ipython3",
   "version": "3.9.11"
  },
  "orig_nbformat": 4
 },
 "nbformat": 4,
 "nbformat_minor": 2
}
